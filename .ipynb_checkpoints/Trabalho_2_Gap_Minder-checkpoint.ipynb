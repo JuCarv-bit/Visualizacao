{
 "cells": [
  {
   "cell_type": "markdown",
   "metadata": {},
   "source": [
    "# Fundação Getúlio Vargas\n",
    "# Mestrado em Modelagem Informacional\n",
    "# Visualização da Informação\n",
    "# Trabalho II: Análise e Reprodução de uma visualização reconhecida ou relevante Historicamente"
   ]
  },
  {
   "cell_type": "markdown",
   "metadata": {},
   "source": [
    "Aluna: Juliana Carvalho de Souza   \n",
    "\n",
    "Curso: Graduação em Matemática Aplicada/4o Período\n",
    "\n",
    "Professora: Asla Medeiros e Sá\n",
    "\n",
    "Data: 26 de Outubro de 2021\n"
   ]
  },
  {
   "cell_type": "markdown",
   "metadata": {},
   "source": [
    "Uma visualização importante foi a do Gapminder, proposta por Hans Rosling em 2005, como detalhado em <https://www.washingtonpost.com/news/wonk/wp/2017/02/08/remembering-hans-rosling-the-visualization-pioneer-who-made-data-dance/>. A visualização dinâmica explorava problemas de desenvolvimento social utilizando gráficos de bolhas e foi responsável por popularizar a chamada \"storytellyng with data\".\n",
    "\n",
    "Segundo Rosling and Johansson, 2009:\n",
    "\n",
    "\"The main innovation from Gapminder is so far 'the moving bubble chart' in the form of the Trendalyzer software that was acquired by Google in 2007. Google has made a 2008 version freely available as Google Motion Chart. Gapminder is a non-profit foundation founded in 2005 with a goal of '…increase use and understanding of statistics and other information about social, economic and environmental development at local, national and global levels.” "
   ]
  },
  {
   "cell_type": "markdown",
   "metadata": {},
   "source": [
    "+ Parte1: Encontrar os dados (compartilhar referências de dados no slack)\n",
    "+ Parte2: Fazer uma análise de qual seria a função pretendida com a visualização proposta. \n",
    "+ Parte3: Fazer uma reprodução da visualização escolhida utilizando uma ferramenta computacional atual (de preferência a mesma escolhida por vocês no trabalho 1)\n",
    "+ Parte4: Propor alguma modificação (fundamentando conceitualmente) na visualização proposta. Exemplo: Incluir anotação, incluir interatividade, modificar título ou legenda, adicionar informação, etc."
   ]
  },
  {
   "cell_type": "markdown",
   "metadata": {},
   "source": [
    "+ Parte1: Encontrar os dados (compartilhar referências de dados no slack)"
   ]
  },
  {
   "cell_type": "markdown",
   "metadata": {},
   "source": [
    "Os dados são extraídos do https://www.gapminder.org/data/\n"
   ]
  }
 ],
 "metadata": {
  "kernelspec": {
   "display_name": "Python 3",
   "language": "python",
   "name": "python3"
  },
  "language_info": {
   "codemirror_mode": {
    "name": "ipython",
    "version": 3
   },
   "file_extension": ".py",
   "mimetype": "text/x-python",
   "name": "python",
   "nbconvert_exporter": "python",
   "pygments_lexer": "ipython3",
   "version": "3.7.6"
  }
 },
 "nbformat": 4,
 "nbformat_minor": 4
}
